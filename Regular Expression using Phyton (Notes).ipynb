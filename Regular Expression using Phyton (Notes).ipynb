{
 "cells": [
  {
   "cell_type": "markdown",
   "id": "adf5da25",
   "metadata": {},
   "source": [
    "# Re Module + Regex Methods"
   ]
  },
  {
   "cell_type": "code",
   "execution_count": 4,
   "id": "b1b4008f",
   "metadata": {},
   "outputs": [],
   "source": [
    "import re"
   ]
  },
  {
   "cell_type": "code",
   "execution_count": 5,
   "id": "61c95029",
   "metadata": {},
   "outputs": [],
   "source": [
    "quote = \"There's only one thing I hate more than lying: skim milk. Which is water that's lying about being milk. - Ron Swanson\""
   ]
  },
  {
   "cell_type": "code",
   "execution_count": 6,
   "id": "d99948e5",
   "metadata": {},
   "outputs": [
    {
     "data": {
      "text/plain": [
       "'milk'"
      ]
     },
     "execution_count": 6,
     "metadata": {},
     "output_type": "execute_result"
    }
   ],
   "source": [
    "re.search(\"milk\",quote).group()"
   ]
  },
  {
   "cell_type": "code",
   "execution_count": 7,
   "id": "293663f6",
   "metadata": {},
   "outputs": [
    {
     "data": {
      "text/plain": [
       "['milk', 'milk']"
      ]
     },
     "execution_count": 7,
     "metadata": {},
     "output_type": "execute_result"
    }
   ],
   "source": [
    "re.findall(\"milk\",quote)"
   ]
  },
  {
   "cell_type": "code",
   "execution_count": 8,
   "id": "18d7f136",
   "metadata": {},
   "outputs": [
    {
     "data": {
      "text/plain": [
       "2"
      ]
     },
     "execution_count": 8,
     "metadata": {},
     "output_type": "execute_result"
    }
   ],
   "source": [
    "len(re.findall(\"milk\",quote))"
   ]
  },
  {
   "cell_type": "code",
   "execution_count": 9,
   "id": "c2535a66",
   "metadata": {},
   "outputs": [
    {
     "data": {
      "text/plain": [
       "[\"There's only one thing I hate more than lying: skim milk\",\n",
       " \" Which is water that's lying about being milk\",\n",
       " ' - Ron Swanson']"
      ]
     },
     "execution_count": 9,
     "metadata": {},
     "output_type": "execute_result"
    }
   ],
   "source": [
    "re.split(\"\\.\",quote)"
   ]
  },
  {
   "cell_type": "code",
   "execution_count": 10,
   "id": "e7a9384f",
   "metadata": {},
   "outputs": [],
   "source": [
    "quote = \"There's only one thing I hate more than lying: skim milk. Which is water that's lying about being milk. - Ron Swanson\""
   ]
  },
  {
   "cell_type": "code",
   "execution_count": 11,
   "id": "195d747d",
   "metadata": {},
   "outputs": [
    {
     "data": {
      "text/plain": [
       "\"There's only one thing I hate more than lying: skim dairy. Which is water that's lying about being milk. - Ron Swanson\""
      ]
     },
     "execution_count": 11,
     "metadata": {},
     "output_type": "execute_result"
    }
   ],
   "source": [
    "re.sub(\"milk\", \"dairy\", quote, count = 1)"
   ]
  },
  {
   "cell_type": "markdown",
   "id": "ff8e1df1",
   "metadata": {},
   "source": [
    "# Regex Meta-Characters"
   ]
  },
  {
   "cell_type": "code",
   "execution_count": 12,
   "id": "503e830b",
   "metadata": {},
   "outputs": [],
   "source": [
    "import re"
   ]
  },
  {
   "cell_type": "code",
   "execution_count": 13,
   "id": "35cab866",
   "metadata": {},
   "outputs": [],
   "source": [
    "string = 'I like the mountains in the spring. 234098'"
   ]
  },
  {
   "cell_type": "code",
   "execution_count": 14,
   "id": "fac48233",
   "metadata": {},
   "outputs": [
    {
     "data": {
      "text/plain": [
       "['I',\n",
       " 'l',\n",
       " 'i',\n",
       " 'k',\n",
       " 'e',\n",
       " 't',\n",
       " 'h',\n",
       " 'e',\n",
       " 'm',\n",
       " 'o',\n",
       " 'u',\n",
       " 'n',\n",
       " 't',\n",
       " 'a',\n",
       " 'i',\n",
       " 'n',\n",
       " 's',\n",
       " 'i',\n",
       " 'n',\n",
       " 't',\n",
       " 'h',\n",
       " 'e',\n",
       " 's',\n",
       " 'p',\n",
       " 'r',\n",
       " 'i',\n",
       " 'n',\n",
       " 'g',\n",
       " '2',\n",
       " '3',\n",
       " '4',\n",
       " '0',\n",
       " '9',\n",
       " '8']"
      ]
     },
     "execution_count": 14,
     "metadata": {},
     "output_type": "execute_result"
    }
   ],
   "source": [
    "re.findall('[a-zA-Z0-9]',string)"
   ]
  },
  {
   "cell_type": "code",
   "execution_count": 15,
   "id": "9cbef730",
   "metadata": {},
   "outputs": [],
   "source": [
    "string = 'I have 123,456 koalas!'"
   ]
  },
  {
   "cell_type": "code",
   "execution_count": 16,
   "id": "3e29f708",
   "metadata": {},
   "outputs": [
    {
     "data": {
      "text/plain": [
       "['1', '2', '3', '4']"
      ]
     },
     "execution_count": 16,
     "metadata": {},
     "output_type": "execute_result"
    }
   ],
   "source": [
    "re.findall('[0-4]', string)"
   ]
  },
  {
   "cell_type": "code",
   "execution_count": 17,
   "id": "266e6d14",
   "metadata": {},
   "outputs": [
    {
     "data": {
      "text/plain": [
       "['sea', 'sea', 'sba']"
      ]
     },
     "execution_count": 17,
     "metadata": {},
     "output_type": "execute_result"
    }
   ],
   "source": [
    "string = 'You can see sea shells by the sea shore. sba'\n",
    "\n",
    "re.findall('s.a', string)"
   ]
  },
  {
   "cell_type": "code",
   "execution_count": 18,
   "id": "2e099ad6",
   "metadata": {},
   "outputs": [
    {
     "data": {
      "text/plain": [
       "['Well', 'Will']"
      ]
     },
     "execution_count": 18,
     "metadata": {},
     "output_type": "execute_result"
    }
   ],
   "source": [
    "string = \"Well well well... if it isn't Will Wilmer\"\n",
    "\n",
    "re.findall('W.{2}l', string)"
   ]
  },
  {
   "cell_type": "code",
   "execution_count": 19,
   "id": "528de42f",
   "metadata": {},
   "outputs": [
    {
     "data": {
      "text/plain": [
       "[]"
      ]
     },
     "execution_count": 19,
     "metadata": {},
     "output_type": "execute_result"
    }
   ],
   "source": [
    "# ^\n",
    "\n",
    "string = 'Happy birthday to you. Happy birthday to you. Happy birthday dear Alex, happy birthday to you.'\n",
    "\n",
    "re.findall('^you', string)\n"
   ]
  },
  {
   "cell_type": "code",
   "execution_count": 20,
   "id": "6bf5199a",
   "metadata": {},
   "outputs": [
    {
     "data": {
      "text/plain": [
       "['Happy']"
      ]
     },
     "execution_count": 20,
     "metadata": {},
     "output_type": "execute_result"
    }
   ],
   "source": [
    "re.findall('^Happy', string)"
   ]
  },
  {
   "cell_type": "code",
   "execution_count": 21,
   "id": "5681aa58",
   "metadata": {},
   "outputs": [
    {
     "data": {
      "text/plain": [
       "['you.']"
      ]
     },
     "execution_count": 21,
     "metadata": {},
     "output_type": "execute_result"
    }
   ],
   "source": [
    "# $\n",
    "\n",
    "re.findall('you.$', string)"
   ]
  },
  {
   "cell_type": "code",
   "execution_count": 22,
   "id": "baab53f3",
   "metadata": {},
   "outputs": [],
   "source": [
    "# * - zero or more\n",
    "# + - one or more\n",
    "# ? -zero or one"
   ]
  },
  {
   "cell_type": "code",
   "execution_count": 23,
   "id": "04cc7c1c",
   "metadata": {},
   "outputs": [
    {
     "data": {
      "text/plain": [
       "['This Thing called a Thimble has Thrice hurt me']"
      ]
     },
     "execution_count": 23,
     "metadata": {},
     "output_type": "execute_result"
    }
   ],
   "source": [
    "string = 'This Thing called a Thimble has Thrice hurt me'\n",
    "\n",
    "re.findall('Thi.*e', string)"
   ]
  },
  {
   "cell_type": "code",
   "execution_count": 24,
   "id": "6424b94a",
   "metadata": {},
   "outputs": [
    {
     "data": {
      "text/plain": [
       "['This Thing called a Thimble has Thrice hurt me']"
      ]
     },
     "execution_count": 24,
     "metadata": {},
     "output_type": "execute_result"
    }
   ],
   "source": [
    "string = 'This Thing called a Thimble has Thrice hurt me'\n",
    "\n",
    "re.findall('Thi.+e', string)"
   ]
  },
  {
   "cell_type": "code",
   "execution_count": 25,
   "id": "fd4df889",
   "metadata": {},
   "outputs": [
    {
     "data": {
      "text/plain": [
       "['Thimble']"
      ]
     },
     "execution_count": 25,
     "metadata": {},
     "output_type": "execute_result"
    }
   ],
   "source": [
    "string = 'This Thing called a Thimble ha Thrice hurt me'\n",
    "\n",
    "re.findall('Thi.{3}?e', string)"
   ]
  },
  {
   "cell_type": "code",
   "execution_count": 27,
   "id": "07cfd84c",
   "metadata": {},
   "outputs": [
    {
     "data": {
      "text/plain": [
       "['love', 'beautiful']"
      ]
     },
     "execution_count": 27,
     "metadata": {},
     "output_type": "execute_result"
    }
   ],
   "source": [
    "# |\n",
    "\n",
    "string = 'I hate that I love balloon animals. They are beautiful.'\n",
    "\n",
    "re.findall('love|beautiful', string)"
   ]
  },
  {
   "cell_type": "code",
   "execution_count": 28,
   "id": "2e0e170d",
   "metadata": {},
   "outputs": [
    {
     "data": {
      "text/plain": [
       "['beautiful']"
      ]
     },
     "execution_count": 28,
     "metadata": {},
     "output_type": "execute_result"
    }
   ],
   "source": [
    "string = 'I hate that I love balloon animals. They are beautiful.'\n",
    "\n",
    "re.findall('lovely|beautiful', string)"
   ]
  },
  {
   "cell_type": "code",
   "execution_count": 29,
   "id": "0d034040",
   "metadata": {},
   "outputs": [
    {
     "data": {
      "text/plain": [
       "['?']"
      ]
     },
     "execution_count": 29,
     "metadata": {},
     "output_type": "execute_result"
    }
   ],
   "source": [
    "string = 'I like cats. You like cats? We all like cats.'\n",
    "\n",
    "re.findall('\\?',string)"
   ]
  },
  {
   "cell_type": "markdown",
   "id": "d52ae894",
   "metadata": {},
   "source": [
    "# Regular Expression Use Cases"
   ]
  },
  {
   "cell_type": "code",
   "execution_count": 30,
   "id": "f6ab9697",
   "metadata": {},
   "outputs": [],
   "source": [
    "import re\n",
    "\n",
    "random_text = '''\n",
    "My name is Mr. Neo. My phone number is 123-456-7890. My email is ChosenOne@gmail.com\n",
    "My name is Mr. Morphius. My phone number is 413-234-2568. My email is CoolGuy@yahoo.com. \n",
    "My name is Mrs. Trinity. My phone number is 285-036-8215. My email is ChosenOnesGirl1@apple.com.\n",
    "'''"
   ]
  },
  {
   "cell_type": "code",
   "execution_count": 31,
   "id": "1bb17f7f",
   "metadata": {},
   "outputs": [
    {
     "data": {
      "text/plain": [
       "['gmail', 'yahoo', 'apple']"
      ]
     },
     "execution_count": 31,
     "metadata": {},
     "output_type": "execute_result"
    }
   ],
   "source": [
    "re.findall('@([a-z]+)',random_text)"
   ]
  },
  {
   "cell_type": "code",
   "execution_count": 32,
   "id": "bfa36132",
   "metadata": {},
   "outputs": [
    {
     "data": {
      "text/plain": [
       "['@gmail', '@yahoo', '@apple']"
      ]
     },
     "execution_count": 32,
     "metadata": {},
     "output_type": "execute_result"
    }
   ],
   "source": [
    "re.findall('@[a-z]+',random_text)"
   ]
  },
  {
   "cell_type": "code",
   "execution_count": 33,
   "id": "eb6f9034",
   "metadata": {},
   "outputs": [
    {
     "data": {
      "text/plain": [
       "['gmail.com', 'yahoo.com.', 'apple.com.']"
      ]
     },
     "execution_count": 33,
     "metadata": {},
     "output_type": "execute_result"
    }
   ],
   "source": [
    "re.findall('@([\\w\\.]+)',random_text)"
   ]
  },
  {
   "cell_type": "code",
   "execution_count": 34,
   "id": "83015380",
   "metadata": {},
   "outputs": [
    {
     "data": {
      "text/plain": [
       "['@gmail.com', '@yahoo.com.', '@apple.com.']"
      ]
     },
     "execution_count": 34,
     "metadata": {},
     "output_type": "execute_result"
    }
   ],
   "source": [
    "re.findall('@[\\w\\.]+',random_text)"
   ]
  },
  {
   "cell_type": "code",
   "execution_count": 35,
   "id": "189ec5fe",
   "metadata": {},
   "outputs": [
    {
     "data": {
      "text/plain": [
       "['ChosenOne@gmail.com', 'CoolGuy@yahoo.com.', 'ChosenOnesGirl1@apple.com.']"
      ]
     },
     "execution_count": 35,
     "metadata": {},
     "output_type": "execute_result"
    }
   ],
   "source": [
    "re.findall('[\\w+]+@[\\w\\.]+',random_text)"
   ]
  },
  {
   "cell_type": "code",
   "execution_count": 36,
   "id": "13ac7e44",
   "metadata": {},
   "outputs": [
    {
     "data": {
      "text/plain": [
       "['123-456-7890', '413-234-2568', '285-036-8215']"
      ]
     },
     "execution_count": 36,
     "metadata": {},
     "output_type": "execute_result"
    }
   ],
   "source": [
    "re.findall('\\d{3}-\\d{3}-\\d{4}',random_text)"
   ]
  },
  {
   "cell_type": "code",
   "execution_count": 37,
   "id": "e1f88351",
   "metadata": {},
   "outputs": [],
   "source": [
    "# Normally, data is not given as a text string. We have to apply regular expression, for example, to a list:\n",
    "\n",
    "my_list = ['ChosenOne@gmail.com', 'CoolGuy@yahoo.com.', 'ChosenOnesGirl1@apple.com.']"
   ]
  },
  {
   "cell_type": "code",
   "execution_count": 39,
   "id": "7a3a43a4",
   "metadata": {},
   "outputs": [
    {
     "name": "stdout",
     "output_type": "stream",
     "text": [
      "['@gmail.com']\n",
      "['@yahoo.com.']\n",
      "['@apple.com.']\n"
     ]
    }
   ],
   "source": [
    "for email in my_list:\n",
    "    print(re.findall('@[\\w\\.]+',email))"
   ]
  },
  {
   "cell_type": "code",
   "execution_count": 41,
   "id": "2b1d5012",
   "metadata": {},
   "outputs": [
    {
     "name": "stdout",
     "output_type": "stream",
     "text": [
      "['@gmail.com', '@yahoo.com.', '@apple.com.']\n"
     ]
    }
   ],
   "source": [
    "# If we also want the output as a list: \n",
    "\n",
    "domain_list = [re.findall('@[\\w\\.]+',email)[0] for email in my_list]\n",
    "\n",
    "print(domain_list)"
   ]
  },
  {
   "cell_type": "code",
   "execution_count": null,
   "id": "ad3e1b25",
   "metadata": {},
   "outputs": [],
   "source": []
  },
  {
   "cell_type": "code",
   "execution_count": null,
   "id": "d2e9894c",
   "metadata": {},
   "outputs": [],
   "source": []
  },
  {
   "cell_type": "code",
   "execution_count": null,
   "id": "d38820f7",
   "metadata": {},
   "outputs": [],
   "source": []
  },
  {
   "cell_type": "code",
   "execution_count": null,
   "id": "17125044",
   "metadata": {},
   "outputs": [],
   "source": []
  },
  {
   "cell_type": "code",
   "execution_count": null,
   "id": "83bb2664",
   "metadata": {},
   "outputs": [],
   "source": []
  },
  {
   "cell_type": "code",
   "execution_count": null,
   "id": "efb1e50d",
   "metadata": {},
   "outputs": [],
   "source": []
  },
  {
   "cell_type": "code",
   "execution_count": null,
   "id": "b895e5ef",
   "metadata": {},
   "outputs": [],
   "source": []
  }
 ],
 "metadata": {
  "kernelspec": {
   "display_name": "Python 3",
   "language": "python",
   "name": "python3"
  },
  "language_info": {
   "codemirror_mode": {
    "name": "ipython",
    "version": 3
   },
   "file_extension": ".py",
   "mimetype": "text/x-python",
   "name": "python",
   "nbconvert_exporter": "python",
   "pygments_lexer": "ipython3",
   "version": "3.8.8"
  }
 },
 "nbformat": 4,
 "nbformat_minor": 5
}
